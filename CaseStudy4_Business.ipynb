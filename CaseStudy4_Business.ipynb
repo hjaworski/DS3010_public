{
  "cells": [
    {
      "cell_type": "markdown",
      "metadata": {
        "id": "3SHVl4cWjgoO"
      },
      "source": [
        "### Case Study 4 :  Data Science Shark Tank:  Pitch Your Ideas\n",
        "\n",
        "**Due Date: March 1, 2022, BEFORE the beginning of class at 2:00pm ET**\n",
        "\n",
        "NOTE: There are always last minute issues submitting the case studies. DO NOT WAIT UNTIL THE LAST MINUTE!\n",
        "\n",
        "<img src=\"https://techcrunch.com/wp-content/uploads/2018/10/shark-tank.jpg?w=730&crop=1\" width=\"400px\"> "
      ]
    },
    {
      "cell_type": "markdown",
      "metadata": {
        "id": "SaAD7SdXjgoQ"
      },
      "source": [
        "After the previous three case studies,  your team is now equipped with a powerful set of data science skills. In this project, your team is going to make use of these skills to come up with an idea of a new business/startup based upon data science technology. Your goal is to design a service/solution, develop a prototype/demo and prepare a pitch for your idea.\n",
        "* Your team needs to decide which business problem is important for the market you are joining in (for example, social media market, housing market, search market, etc.).\n",
        "* Then design a data science approach to improve one of the current services or design a new service on any data that you choose.\n",
        "* The solution should include:\n",
        "  1. The use of Twitter data\n",
        "  1. The use of at least one other data set to combine with the Twitter data\n",
        "  1. The use of cloud resources\n",
        "  1. A 90 second elevator pitch\n",
        "  1. The normal longer present with a demo of your product\n",
        "* NOTE, as opposed to the first three case studies, case study 5 is much more open ended.  \n",
        "  * Business is the focus\n",
        "  * The precise balance of the various things we learned in class is up to you."
      ]
    },
    {
      "cell_type": "markdown",
      "metadata": {
        "id": "9rHMBNmVjgoR"
      },
      "source": [
        "# Background about Elevator Pitch (90 seconds) and Shark Tank"
      ]
    },
    {
      "cell_type": "code",
      "execution_count": null,
      "metadata": {
        "id": "kGMGqZy-jgoR",
        "outputId": "839d0861-bb52-4e12-fdbc-ccb1553dd116",
        "colab": {
          "base_uri": "https://localhost:8080/",
          "height": 321
        }
      },
      "outputs": [
        {
          "output_type": "execute_result",
          "data": {
            "text/html": [
              "\n",
              "        <iframe\n",
              "            width=\"400\"\n",
              "            height=\"300\"\n",
              "            src=\"https://www.youtube.com/embed/3UuFR4Y4uw8\"\n",
              "            frameborder=\"0\"\n",
              "            allowfullscreen\n",
              "        ></iframe>\n",
              "        "
            ],
            "text/plain": [
              "<IPython.lib.display.YouTubeVideo at 0x7fc386c3e110>"
            ],
            "image/jpeg": "[encoded data removed]"
          },
          "metadata": {},
          "execution_count": 1
        }
      ],
      "source": [
        "from IPython.display import YouTubeVideo\n",
        "YouTubeVideo(\"3UuFR4Y4uw8\") "
      ]
    },
    {
      "cell_type": "markdown",
      "metadata": {
        "id": "So2FndUVjgoS"
      },
      "source": [
        "### Two videos on storytelling"
      ]
    },
    {
      "cell_type": "markdown",
      "metadata": {
        "id": "svbG59IejgoT"
      },
      "source": [
        "https://video.wpi.edu/Watch/g2T4NjBn"
      ]
    },
    {
      "cell_type": "markdown",
      "metadata": {
        "id": "_6TmKhyMjgoT"
      },
      "source": [
        "https://video.wpi.edu/Watch/q2A6Dbg3"
      ]
    },
    {
      "cell_type": "markdown",
      "metadata": {
        "id": "AjugdkxCjgoT"
      },
      "source": [
        "\n",
        "**Optional Readings:** \n",
        "* LinkedIn API: https://developer.linkedin.com/docs/rest-api\n",
        "* Zillow API: https://pypi.python.org/pypi/pyzillow\n",
        "* Google Map API: https://developers.google.com/api-client-library/python/apis/mapsengine/v1?hl=en\n",
        "* More APIs: https://github.com/ptwobrussell/Mining-the-Social-Web-2nd-Edition\n",
        "\n",
        "\n",
        "** Python libraries you may want to use:**\n",
        "* Scikit-learn (http://scikit-learn.org): machine learning tools in Python.\n",
        "\n",
        "** Data sources:**\n",
        "* UCI Machine Learning Repository: http://archive.ics.uci.edu/ml/ \n",
        "* Statlib datasets: http://lib.stat.cmu.edu/\n",
        "* Kaggel: www.kaggle.com \n",
        "* Open Gov. Data: www.data.gov, www.data.gov.uk, www.data.gov.fr, http://opengovernmentdata.org/data/catalogues/   \n",
        "\n",
        "** NOTE **\n",
        "* Please don't forget to save the notebook frequently when working in IPython Notebook, otherwise the changes you made can be lost.\n"
      ]
    },
    {
      "cell_type": "code",
      "source": [
        "! pip install pymongo\n",
        "! pip install dnspython\n",
        "! pip install twitter\n",
        "! pip install geopandas\n",
        "! pip install scikit-learn\n",
        "\n",
        "import sys\n",
        "import numpy as np\n",
        "import pandas as pa\n",
        "import sklearn\n",
        "import matplotlib.pylab as plt\n",
        "from mpl_toolkits.mplot3d import Axes3D\n",
        "from matplotlib.colors import ListedColormap\n",
        "from sklearn.feature_extraction.text import TfidfVectorizer\n",
        "from sklearn.svm import LinearSVC\n",
        "from sklearn.pipeline import Pipeline\n",
        "from sklearn.model_selection import GridSearchCV\n",
        "from sklearn.datasets import load_files\n",
        "from sklearn.model_selection import train_test_split\n",
        "from sklearn.neighbors import KNeighborsClassifier\n",
        "from sklearn import metrics\n",
        "from sklearn.neural_network import MLPClassifier\n",
        "from sklearn.feature_extraction import DictVectorizer\n"
      ],
      "metadata": {
        "id": "ZTk7U9aiMcbd",
        "outputId": "eae3a37c-cf9e-490f-8f65-afb074a5af94",
        "colab": {
          "base_uri": "https://localhost:8080/"
        }
      },
      "execution_count": null,
      "outputs": [
        {
          "output_type": "stream",
          "name": "stdout",
          "text": [
            "Requirement already satisfied: pymongo in /usr/local/lib/python3.7/dist-packages (4.0.1)\n",
            "Requirement already satisfied: dnspython in /usr/local/lib/python3.7/dist-packages (2.2.0)\n",
            "Requirement already satisfied: twitter in /usr/local/lib/python3.7/dist-packages (1.19.3)\n",
            "Requirement already satisfied: geopandas in /usr/local/lib/python3.7/dist-packages (0.10.2)\n",
            "Requirement already satisfied: shapely>=1.6 in /usr/local/lib/python3.7/dist-packages (from geopandas) (1.8.1)\n",
            "Requirement already satisfied: pyproj>=2.2.0 in /usr/local/lib/python3.7/dist-packages (from geopandas) (3.2.1)\n",
            "Requirement already satisfied: fiona>=1.8 in /usr/local/lib/python3.7/dist-packages (from geopandas) (1.8.21)\n",
            "Requirement already satisfied: pandas>=0.25.0 in /usr/local/lib/python3.7/dist-packages (from geopandas) (1.3.5)\n",
            "Requirement already satisfied: click>=4.0 in /usr/local/lib/python3.7/dist-packages (from fiona>=1.8->geopandas) (7.1.2)\n",
            "Requirement already satisfied: certifi in /usr/local/lib/python3.7/dist-packages (from fiona>=1.8->geopandas) (2021.10.8)\n",
            "Requirement already satisfied: munch in /usr/local/lib/python3.7/dist-packages (from fiona>=1.8->geopandas) (2.5.0)\n",
            "Requirement already satisfied: cligj>=0.5 in /usr/local/lib/python3.7/dist-packages (from fiona>=1.8->geopandas) (0.7.2)\n",
            "Requirement already satisfied: six>=1.7 in /usr/local/lib/python3.7/dist-packages (from fiona>=1.8->geopandas) (1.15.0)\n",
            "Requirement already satisfied: setuptools in /usr/local/lib/python3.7/dist-packages (from fiona>=1.8->geopandas) (57.4.0)\n",
            "Requirement already satisfied: attrs>=17 in /usr/local/lib/python3.7/dist-packages (from fiona>=1.8->geopandas) (21.4.0)\n",
            "Requirement already satisfied: click-plugins>=1.0 in /usr/local/lib/python3.7/dist-packages (from fiona>=1.8->geopandas) (1.1.1)\n",
            "Requirement already satisfied: python-dateutil>=2.7.3 in /usr/local/lib/python3.7/dist-packages (from pandas>=0.25.0->geopandas) (2.8.2)\n",
            "Requirement already satisfied: numpy>=1.17.3 in /usr/local/lib/python3.7/dist-packages (from pandas>=0.25.0->geopandas) (1.21.5)\n",
            "Requirement already satisfied: pytz>=2017.3 in /usr/local/lib/python3.7/dist-packages (from pandas>=0.25.0->geopandas) (2018.9)\n",
            "Requirement already satisfied: scikit-learn in /usr/local/lib/python3.7/dist-packages (1.0.2)\n",
            "Requirement already satisfied: numpy>=1.14.6 in /usr/local/lib/python3.7/dist-packages (from scikit-learn) (1.21.5)\n",
            "Requirement already satisfied: joblib>=0.11 in /usr/local/lib/python3.7/dist-packages (from scikit-learn) (1.1.0)\n",
            "Requirement already satisfied: threadpoolctl>=2.0.0 in /usr/local/lib/python3.7/dist-packages (from scikit-learn) (3.1.0)\n",
            "Requirement already satisfied: scipy>=1.1.0 in /usr/local/lib/python3.7/dist-packages (from scikit-learn) (1.4.1)\n"
          ]
        }
      ]
    },
    {
      "cell_type": "code",
      "source": [
        "import pymongo\n",
        "client = pymongo.MongoClient(\"mongodb+srv://CaseStudy:i<3datascience@ds3010.6mcnk.mongodb.net/caseStudy2DB?retryWrites=true&w=majority\")\n"
      ],
      "metadata": {
        "id": "ovoHVC4YMTYq"
      },
      "execution_count": null,
      "outputs": []
    },
    {
      "cell_type": "code",
      "source": [
        "import twitter\n",
        "\n",
        "# See https://dev.twitter.com/docs/auth/oauth for more information \n",
        "# on Twitter's OAuth implementation.\n",
        "\n",
        "CONSUMER_KEY = 'vS5IZ3UlRACBL6mZPSrTcZnLJ'\n",
        "\n",
        "CONSUMER_SECRET = '9v2hnmCAdzq8ey7nb638KSxTa88jM1sNeHDNRsHtUhL4J9KJTY'\n",
        "\n",
        "OAUTH_TOKEN = '571213367-wzPqnjCPnQ8NQfTvtVeZRGOoROZsa6feBWHRMrAY'\n",
        "\n",
        "OAUTH_TOKEN_SECRET = 'IAl7PqHjBUVKgwUMp9LQznz1e4XfbG2VE0aqDfHEXTlyh'\n",
        "\n",
        "auth = twitter.oauth.OAuth(OAUTH_TOKEN, OAUTH_TOKEN_SECRET,\n",
        "                           CONSUMER_KEY, CONSUMER_SECRET)\n",
        "\n",
        "twitter_api = twitter.Twitter(auth=auth)\n",
        "\n",
        "#mongoDB\n",
        "import pymongo\n",
        "client = pymongo.MongoClient(\"mongodb+srv://CaseStudy:i<3datascience@ds3010.6mcnk.mongodb.net/caseStudy2DB?retryWrites=true&w=majority\")\n",
        "db = client['caseStudy2DB']\n",
        "\n",
        "#collect tweets\n",
        "import json\n",
        "q = 'NFL'\n",
        "count = 1000\n",
        "search_results = twitter_api.search.tweets(q=q, count=count)\n",
        "#print(search_results)\n",
        "\n",
        "statuses = search_results['statuses']\n",
        "for _ in range(5):\n",
        "    print(\"Length of statuses\", len(statuses))\n",
        "    try:\n",
        "        next_results = search_results['search_metadata']['next_results']\n",
        "    except KeyError: # No more results when next_results doesn't exist\n",
        "        break\n",
        "        \n",
        "\n",
        "    kwargs = dict([ kv.split('=') for kv in next_results[1:].split(\"&\") ])\n",
        "    \n",
        "    search_results = twitter_api.search.tweets(**kwargs)\n",
        "    statuses += search_results['statuses']\n",
        "\n",
        "# Reference a particular collection in the database\n",
        "coll = db['_NFL']\n",
        "\n",
        "# Write data to mongoDB\n",
        "data = coll.insert_many(statuses)\n",
        "\n",
        "q = 'MLB'\n",
        "count = 1000\n",
        "search_results = twitter_api.search.tweets(q=q, count=count)\n",
        "#print(search_results)\n",
        "\n",
        "statuses = search_results['statuses']\n",
        "for _ in range(5):\n",
        "    print(\"Length of statuses\", len(statuses))\n",
        "    try:\n",
        "        next_results = search_results['search_metadata']['next_results']\n",
        "    except KeyError: # No more results when next_results doesn't exist\n",
        "        break\n",
        "        \n",
        "\n",
        "    kwargs = dict([ kv.split('=') for kv in next_results[1:].split(\"&\") ])\n",
        "    \n",
        "    search_results = twitter_api.search.tweets(**kwargs)\n",
        "    statuses += search_results['statuses']\n",
        "\n",
        "# Reference a particular collection in the database\n",
        "coll = db['_MLB']\n",
        "\n",
        "# Write data to mongoDB\n",
        "data = coll.insert_many(statuses)\n",
        "\n",
        "q = 'NBA'\n",
        "count = 1000\n",
        "search_results = twitter_api.search.tweets(q=q, count=count)\n",
        "#print(search_results)\n",
        "\n",
        "statuses = search_results['statuses']\n",
        "for _ in range(5):\n",
        "    print(\"Length of statuses\", len(statuses))\n",
        "    try:\n",
        "        next_results = search_results['search_metadata']['next_results']\n",
        "    except KeyError: # No more results when next_results doesn't exist\n",
        "        break\n",
        "        \n",
        "\n",
        "    kwargs = dict([ kv.split('=') for kv in next_results[1:].split(\"&\") ])\n",
        "    \n",
        "    search_results = twitter_api.search.tweets(**kwargs)\n",
        "    statuses += search_results['statuses']\n",
        "\n",
        "# Reference a particular collection in the database\n",
        "coll = db['_NBA']\n",
        "\n",
        "# Write data to mongoDB\n",
        "data = coll.insert_many(statuses)"
      ],
      "metadata": {
        "id": "sy-hUOpnMoAN",
        "outputId": "1af91da0-8ee9-4e89-cd21-850f7a0edbce",
        "colab": {
          "base_uri": "https://localhost:8080/"
        }
      },
      "execution_count": null,
      "outputs": [
        {
          "output_type": "stream",
          "name": "stdout",
          "text": [
            "Length of statuses 100\n",
            "Length of statuses 200\n",
            "Length of statuses 300\n",
            "Length of statuses 400\n",
            "Length of statuses 500\n",
            "Length of statuses 100\n",
            "Length of statuses 200\n",
            "Length of statuses 300\n",
            "Length of statuses 400\n",
            "Length of statuses 492\n",
            "Length of statuses 100\n",
            "Length of statuses 200\n",
            "Length of statuses 300\n",
            "Length of statuses 400\n",
            "Length of statuses 500\n"
          ]
        }
      ]
    },
    {
      "cell_type": "markdown",
      "metadata": {
        "id": "aUDxNVNUjgoT"
      },
      "source": [
        "### Problem 1 (20 points): the Business Part \n",
        " As a group, learn about the data science related business and research about the current markets: such as search, social media, advertisement, recommendation and so on.\n",
        "Pick one of the markets for further consideration, and design a new service  which you believe to be important in the market. \n",
        "Define precisely in the report and briefly in the cells below, what is the business problem that your team wants to solve.\n",
        "Why the problem is important to solve? \n",
        "Why you believe you could make a big difference with data science technology.\n",
        "How are you planing to persuade the investors to buy in your idea."
      ]
    },
    {
      "cell_type": "markdown",
      "source": [
        "For our business problem, we wanted to find the most popular NBA players and teams to help decide which players and teams to make the most sports merchandise for. This is an important problem to solve so companies can stock merchandise that is more likely to sell, which will prevent losing money from buying merchandise that won’t sell as much. We can make a big difference with data science technology since we are able to search through tweets people have posted regarding the NBA, NBA teams, and NBA players and analyze their sentiments to determine the popularity of a team or player. Investors should buy in our idea because the market for sports merchandise is about 45 trillion dollars, and our product can save companies a lot of money."
      ],
      "metadata": {
        "id": "5dgo_3cDQTA4"
      }
    },
    {
      "cell_type": "markdown",
      "metadata": {
        "id": "4NBY3_AojgoU"
      },
      "source": [
        "**Please describe here *briefly*  (please edit this cell)**\n",
        "\n",
        "1) Your business problem to solve:\n",
        "\n",
        "\n",
        "\n",
        "2) Why the problem is important to solve? \n",
        "\n",
        "\n",
        "3) What is your idea to solve the problem? \n",
        "\n",
        "\n",
        "4) What differences you could make with your data science approach?\n",
        "\n",
        "\n",
        "5) Why do you believe the idea deserves the investment of the \"sharks\"?\n",
        "\n",
        "\n",
        "\n",
        "\n"
      ]
    },
    {
      "cell_type": "markdown",
      "metadata": {
        "id": "9bVjigvtjgoU"
      },
      "source": [
        "### Problem 2 (20 points): The Data Part "
      ]
    },
    {
      "cell_type": "markdown",
      "metadata": {
        "id": "fFCFnuvqjgoU"
      },
      "source": [
        "Define how Twitter data and at least one other dataset can be combined to make a Data Science product."
      ]
    },
    {
      "cell_type": "code",
      "execution_count": null,
      "metadata": {
        "id": "kWhPkKM3jgoU"
      },
      "outputs": [],
      "source": [
        "# your code here\n",
        "\n",
        "# Twitter data and other datasets can be used together to create a data science product in several ways. \n",
        "# Combining these various forms of data can provide us with additional information to do more analysis,\n",
        "# and also allows us to be more specific in our analysis.\n",
        "\n",
        "#\tWe found a dataset that supplied us with the names of the NBA players and the cities where the teams were from, for 2022. \n",
        "# To use this dataset with our Twitter data, we first had to download it as an excel sheet. \n",
        "# At this stage, we looked at the city name column which originally displayed the city names as three letter encodings.\n",
        "# We decided to modify this column to include the full city name to make it easier to read and search through with our demo.\n",
        "# From there, we downloaded it as a csv file and then copied and pasted the csv file into a txt file so we could easily\n",
        "# read the data into our python notebook. This dataset enabled us to connect the team name entered in the demo with\n",
        "# the players that belong to that team. With the player names, we were able to gather the data on the top five\n",
        "# players for the team entered, instead of just tweets that mentioned the team.\n",
        "\n"
      ]
    },
    {
      "cell_type": "markdown",
      "metadata": {
        "id": "2na5JTirjgoV"
      },
      "source": [
        "### Problem 3 (20 points): The Demo Part  \n"
      ]
    },
    {
      "cell_type": "markdown",
      "metadata": {
        "id": "NZZXqVvKjgoV"
      },
      "source": [
        "Implement a small Demo/Prototype/experiment result figures for the \"product\" of your data science company. You could use this demo during the Pitch"
      ]
    },
    {
      "cell_type": "markdown",
      "source": [
        "sentimentAnalysis.txt was made from combining three texts files from this dataset: 'From Group to Individual Labels using Deep Features', Kotzias et. al,. KDD 2015"
      ],
      "metadata": {
        "id": "EllGnMATrTS3"
      }
    },
    {
      "cell_type": "code",
      "source": [
        "! wget https://www.cs.cornell.edu/people/pabo/movie-review-data/review_polarity.tar.gz\n",
        "! tar xzf review_polarity.tar.gz\n",
        "! ls\n"
      ],
      "metadata": {
        "colab": {
          "base_uri": "https://localhost:8080/"
        },
        "id": "5zHWK1wEwQI0",
        "outputId": "4e676e5d-5656-4474-894d-b809fb564889"
      },
      "execution_count": null,
      "outputs": [
        {
          "output_type": "stream",
          "name": "stdout",
          "text": [
            "--2022-02-26 18:36:35--  https://www.cs.cornell.edu/people/pabo/movie-review-data/review_polarity.tar.gz\n",
            "Resolving www.cs.cornell.edu (www.cs.cornell.edu)... 132.236.207.36\n",
            "Connecting to www.cs.cornell.edu (www.cs.cornell.edu)|132.236.207.36|:443... connected.\n",
            "HTTP request sent, awaiting response... 200 OK\n",
            "Length: 3127238 (3.0M) [application/x-gzip]\n",
            "Saving to: ‘review_polarity.tar.gz’\n",
            "\n",
            "review_polarity.tar 100%[===================>]   2.98M  6.08MB/s    in 0.5s    \n",
            "\n",
            "2022-02-26 18:36:36 (6.08 MB/s) - ‘review_polarity.tar.gz’ saved [3127238/3127238]\n",
            "\n",
            "NBAPlayerStats.txt  review_polarity.tar.gz  txt_sentoken\n",
            "poldata.README.2.0  sample_data\n"
          ]
        }
      ]
    },
    {
      "cell_type": "code",
      "source": [
        "dataset = load_files('txt_sentoken/', shuffle=False)\n",
        "print(\"n_samples: %d\" % len(dataset.data))\n",
        "\n",
        "# split the dataset in training and test set:\n",
        "docs_train, docs_test, y_train, y_test = train_test_split(\n",
        "    dataset.data, dataset.target, test_size=0.25, random_state=None)"
      ],
      "metadata": {
        "colab": {
          "base_uri": "https://localhost:8080/"
        },
        "id": "h3T9CuY2wvPC",
        "outputId": "7fff5666-54fc-444f-efe7-7e5149a75d33"
      },
      "execution_count": null,
      "outputs": [
        {
          "output_type": "stream",
          "name": "stdout",
          "text": [
            "n_samples: 2000\n"
          ]
        }
      ]
    },
    {
      "cell_type": "code",
      "source": [
        "vectorizer = TfidfVectorizer(min_df=3, max_df=.95, ngram_range=(1,7))\n",
        "trained = vectorizer.fit(docs_train)\n",
        "\n",
        "xtrain = trained.transform(docs_train)"
      ],
      "metadata": {
        "id": "omZAcYw8Fdt5"
      },
      "execution_count": null,
      "outputs": []
    },
    {
      "cell_type": "markdown",
      "source": [
        "NBA Player Stats dataset is from: https://www.nbastuffer.com/2021-2022-nba-player-stats/  "
      ],
      "metadata": {
        "id": "WzvI7AFLQpWh"
      }
    },
    {
      "cell_type": "code",
      "source": [
        "import pymongo\n",
        "import csv\n",
        "from heapq import nlargest\n",
        "from matplotlib.pyplot import figure\n",
        "\n",
        "\n",
        "client = pymongo.MongoClient(\"mongodb+srv://CaseStudy:i<3datascience@ds3010.6mcnk.mongodb.net/caseStudy2DB?retryWrites=true&w=majority\")\n",
        "db = client['caseStudy2DB']\n",
        "coll = db['_NBA']\n",
        "\n",
        "\n",
        "def getPlayers(city):\n",
        "  players = [];\n",
        "  with open('NBAPlayerStats.txt') as csv_file:\n",
        "    csv_reader = csv.reader(csv_file, delimiter=',')\n",
        "    line_count = 0\n",
        "    for row in csv_reader:\n",
        "        if line_count == 0:\n",
        "            line_count += 1\n",
        "        else:\n",
        "            if(row[1] == city):\n",
        "              players.append(row[0]);\n",
        "            line_count += 1\n",
        "  return players\n",
        "\n",
        "def getPlayerData(player):\n",
        "    player_data = coll.find({'text':  {'$regex': '.*'+player+'.*', '$options': 'i' }})\n",
        "    status_texts = [ status['text']\n",
        "                    for status in player_data]\n",
        "\n",
        "    if(len(status_texts)!=0):\n",
        "        xtest2 = trained.transform(status_texts)\n",
        "\n",
        "        linear = LinearSVC()\n",
        "        fittedLinear = linear.fit(xtrain, y_train)\n",
        "        predicted = fittedLinear.predict(xtest2)\n",
        "\n",
        "        pos_neg = posNeg(predicted)\n",
        "        positive = pos_neg[0]\n",
        "        negative = pos_neg[1]\n",
        "        return pos_neg\n",
        "    else:\n",
        "        return [0,0]\n",
        "\n",
        "def posNeg(prediction):\n",
        "    posCount = 0\n",
        "    negCount = 0\n",
        "    for pred in prediction:\n",
        "      if(pred == 0):\n",
        "        negCount += 1\n",
        "      else:\n",
        "        posCount += 1\n",
        "    return [posCount, len(prediction)]\n",
        "\n",
        "def top5Players(players, playerResults):\n",
        "  playerDict = {}\n",
        "  top5PlayerDict = {}\n",
        "  N = 5\n",
        "  for i in range(len(players)):\n",
        "    playerDict[players[i]] = playerResults[i]\n",
        "\n",
        "  result = nlargest(N, playerDict, key = playerDict.get)\n",
        "\n",
        "  for r in result:\n",
        "    ratio = playerDict.get(r)\n",
        "    top5PlayerDict[r] = ratio\n",
        "  return top5PlayerDict\n",
        "\n",
        "\n",
        "def teamData(city, team):\n",
        "    team_data = coll.find({'text':  {'$regex': '.*'+team+'.*', '$options': 'i' }})\n",
        "    status_texts = [ status['text']\n",
        "                    for status in team_data]\n",
        "    \n",
        "    xtest = trained.transform(status_texts)\n",
        "\n",
        "    linear = LinearSVC()\n",
        "    fittedLinear = linear.fit(xtrain, y_train)\n",
        "    predicted = fittedLinear.predict(xtest)\n",
        "\n",
        "    pos_neg = posNeg(predicted)\n",
        "    positive = pos_neg[0]\n",
        "    negative = pos_neg[1]\n",
        "\n",
        "\n",
        "    figure(figsize=(10, 10), dpi=80)\n",
        "\n",
        "    plt.bar([\"Pos\",\"Neg\"], pos_neg, color ='green',\n",
        "        width = 0.5)\n",
        " \n",
        "    plt.xlabel(\"Sentiment\")\n",
        "    plt.ylabel(\"Number of Tweets\")\n",
        "    plt.title(city+\" \"+team+\" Positive vs Negative Tweets\")\n",
        "    plt.show()\n",
        "\n",
        "    players = getPlayers(city)\n",
        "    playerResults = []\n",
        "    for p in players:\n",
        "      name = p.split()\n",
        "      pResult = getPlayerData(name[1])\n",
        "      posResult = pResult[0]\n",
        "      playerResults.append(posResult)\n",
        "\n",
        "    top5 = top5Players(players,playerResults)\n",
        "\n",
        "    figure(figsize=(10, 10), dpi=80)\n",
        "    plt.bar(top5.keys(), top5.values(), color ='green',\n",
        "        width = 0.5)\n",
        " \n",
        "\n",
        "    plt.xlabel(\"Players\")\n",
        "    plt.ylabel(\"Positive Tweets\")\n",
        "    plt.title(city+\" \"+team+\"'s Top 5 Players for Positive Sentiment\")\n",
        "    plt.show()\n",
        "\n",
        "results = teamData('Boston', 'Celtic')\n"
      ],
      "metadata": {
        "id": "zi3JacdnRbYM",
        "outputId": "f81b9510-0f70-4e70-cc74-4ad7f1145d3f",
        "colab": {
          "base_uri": "https://localhost:8080/",
          "height": 1000
        }
      },
      "execution_count": 13,
      "outputs": [
        {
          "output_type": "display_data",
          "data": {
            "image/png": "[encoded data removed]",
            "text/plain": [
              "<Figure size 800x800 with 1 Axes>"
            ]
          },
          "metadata": {
            "needs_background": "light"
          }
        },
        {
          "output_type": "display_data",
          "data": {
            "image/png": "[encoded data removed]",
            "text/plain": [
              "<Figure size 800x800 with 1 Axes>"
            ]
          },
          "metadata": {
            "needs_background": "light"
          }
        }
      ]
    },
    {
      "cell_type": "markdown",
      "metadata": {
        "id": "ibfjvbDjjgoV"
      },
      "source": [
        "### Problem 4 (20 points): Prepare a 90 second Pitch and *present* it in the class \n",
        "\n",
        "* Prepare the slide(s) for the Pitch (10 points)\n",
        "* Present it in the class (10 points).\n",
        "\n",
        "**Advice:  It should really only be one or two slides, but a really good one or two slides!  Also, it is ok to select one person on the team to give the 90 second pitch (though a very organized multi-person 90 second pitch can be very impressive!)**\n",
        "\n"
      ]
    },
    {
      "cell_type": "markdown",
      "metadata": {
        "id": "cVrKlg5zjgoW"
      },
      "source": [
        "# Slides (for 10 minutes of presentation) (20 points)\n",
        "\n",
        "\n",
        "1. (5 points) Motivation about the data collection, why the topic is interesting to you. \n",
        "\n",
        "2. (10 points) Communicating Results (figure/table)\n",
        "\n",
        "3. (5 points) Story telling (How all the parts (data, analysis, result) fit together as a story?)"
      ]
    },
    {
      "cell_type": "markdown",
      "metadata": {
        "id": "BLDadFWxjgoW"
      },
      "source": [
        "\n",
        "# Done\n",
        "\n",
        "All set! \n",
        "\n",
        "** What do you need to submit?**\n",
        "\n",
        "* **Notebook File**: Save this IPython notebook, and find the notebook file in your folder (for example, \"filename.ipynb\"). This is the file you need to submit. Please make sure all the plotted tables and figures are in the notebook. If you used \"ipython notebook --pylab=inline\" to open the notebook, all the figures and tables should have shown up in the notebook.\n",
        "\n",
        "\n",
        "* **PPT Slides**: **NOTE, for this Case Study you need to prepare two (2) PPT files!**  One for the 90 second Pitch and one for a normal 15 minute presentation.\n",
        "\n",
        "* Report: please prepare a report (less than 10 pages) to report what you found in the data and how data supports you product idea.\n",
        "\n",
        "  * What data you collected?\n",
        "\n",
        "  * How does this data support your product idea?\n",
        "\n",
        "  * How did you analyse the data?\n",
        "\n",
        "  * What did you find in the data?\n",
        "\n",
        "  * (please include figures or tables in the report, but no source code)\n",
        "\n",
        "*Please compress all the files into a single zipped file.*\n",
        "\n",
        "\n",
        "** How to submit: **\n",
        "\n",
        "        Please submit through canvas.wpi.edu.\n",
        "\n",
        "### DS3010 Case Study 4 Team ??\n",
        "\n",
        "#### where ?? is your team number.\n",
        "        \n",
        "** Note: Each team just needs to submits one submission **"
      ]
    },
    {
      "cell_type": "markdown",
      "metadata": {
        "collapsed": true,
        "id": "frk3FfU2jgoW"
      },
      "source": [
        "# Grading Criteria:\n",
        "\n",
        "**Totoal Points: 100**\n",
        "\n",
        "\n",
        "---------------------------------------------------------------------------\n",
        "**Notebook results:**\n",
        "    Points: 80\n",
        "\n",
        "\n",
        "    -----------------------------------\n",
        "    Question 1:\n",
        "    Points: 20\n",
        "    -----------------------------------\n",
        "    \n",
        "    -----------------------------------\n",
        "    Question 2:\n",
        "    Points: 20\n",
        "    -----------------------------------\n",
        "        \n",
        "    -----------------------------------\n",
        "    Question 3:\n",
        "    Points: 20\n",
        "    -----------------------------------\n",
        "  \n",
        "    -----------------------------------\n",
        "    Question 4:  90 second product pitch\n",
        "    Points: 20\n",
        "    -----------------------------------\n",
        "      \n",
        "    -----------------------------------\n",
        "\n",
        "---------------------------------------------------------------------------\n",
        "**Slides (for 15 minutes of presentation): Story-telling**\n",
        "    Points: 20\n",
        "\n",
        "\n",
        "1. Motivation about the data collection, why the topic is interesting to you.\n",
        "    Points: 5 \n",
        "\n",
        "2. Communicating Results (figure/table)\n",
        "    Points: 10 \n",
        "\n",
        "3. Story telling (How all the parts (data, analysis, result) fit together as a story?)\n",
        "    Points: 5 \n"
      ]
    }
  ],
  "metadata": {
    "kernelspec": {
      "display_name": "Python 3",
      "language": "python",
      "name": "python3"
    },
    "language_info": {
      "codemirror_mode": {
        "name": "ipython",
        "version": 3
      },
      "file_extension": ".py",
      "mimetype": "text/x-python",
      "name": "python",
      "nbconvert_exporter": "python",
      "pygments_lexer": "ipython3",
      "version": "3.7.3"
    },
    "colab": {
      "name": "Case5.ipynb",
      "provenance": []
    }
  },
  "nbformat": 4,
  "nbformat_minor": 0
}